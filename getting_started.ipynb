{
 "cells": [
  {
   "cell_type": "markdown",
   "id": "d407bb17",
   "metadata": {},
   "source": [
    "# Getting Started with OpenAI Gym: The Baic Building Blocks\n",
    "Based on [this article](https://blog.paperspace.com/getting-started-with-openai-gym/) but modified to match current version of Gym."
   ]
  },
  {
   "cell_type": "markdown",
   "id": "16f1542b",
   "metadata": {},
   "source": [
    "## Environments\n",
    "\n",
    "The fundamental building block of OpenAI Gym is the `Env` class. It is a Python class that basically implements a simulator that runs the environment we want to train our agent in."
   ]
  },
  {
   "cell_type": "code",
   "execution_count": 2,
   "id": "5052cac5-d8ad-4d1a-9386-59e7fc631f73",
   "metadata": {},
   "outputs": [],
   "source": [
    "import gym\n",
    "\n",
    "env = gym.make('MountainCar-v0', new_step_api=True, render_mode=\"single_rgb_array\")"
   ]
  },
  {
   "cell_type": "code",
   "execution_count": 3,
   "id": "7e3ead96-a597-498f-bd80-83123cd644e5",
   "metadata": {},
   "outputs": [
    {
     "name": "stdout",
     "output_type": "stream",
     "text": [
      "Obervation space: Box([-1.2  -0.07], [0.6  0.07], (2,), float32)\n",
      "Action space: Discrete(3)\n"
     ]
    }
   ],
   "source": [
    "# Observation and action space\n",
    "obs_space = env.observation_space  # structure and legitimate values for observation of environment's state\n",
    "act_space = env.action_space       # numerical structure of legitimate actions that can be applied to environment\n",
    "print(\"Obervation space:\", obs_space)  # velocity and position vectors\n",
    "print(\"Action space:\", act_space)"
   ]
  },
  {
   "cell_type": "markdown",
   "id": "877e1bd8",
   "metadata": {},
   "source": [
    "## Interacting with the Environment\n",
    "\n",
    "In this section, we cover functions of the Env class that help the agent interact with the environment. Two such important functions are `reset()` and `step()`."
   ]
  },
  {
   "cell_type": "code",
   "execution_count": 4,
   "id": "0e359824-ca74-42bb-9215-8ca1732d879c",
   "metadata": {},
   "outputs": [
    {
     "name": "stdout",
     "output_type": "stream",
     "text": [
      "Initial observation: [-0.35628894  0.        ]\n",
      "New observation: [-3.5649174e-01 -2.0279488e-04]\n"
     ]
    }
   ],
   "source": [
    "import matplotlib.pyplot as plt\n",
    "\n",
    "# Reset env and see initial observation\n",
    "obs = env.reset()\n",
    "print(\"Initial observation:\", obs)\n",
    "\n",
    "# Sample random action from entire action space\n",
    "rand_act = act_space.sample()\n",
    "\n",
    "# Take action and get new obs space\n",
    "new_obs, reward, terminated, truncated, info = env.step(rand_act)\n",
    "print(\"New observation:\", new_obs)"
   ]
  },
  {
   "cell_type": "code",
   "execution_count": 5,
   "id": "b8dd5866-191c-4f3c-8ddd-1143b172325d",
   "metadata": {},
   "outputs": [],
   "source": [
    "env_screen = env.render()\n",
    "env.close()"
   ]
  },
  {
   "cell_type": "code",
   "execution_count": 6,
   "id": "8ec96cfe-2d77-4582-bdb2-346cf646b34b",
   "metadata": {},
   "outputs": [
    {
     "data": {
      "text/plain": [
       "<matplotlib.image.AxesImage at 0x1ea8e47c250>"
      ]
     },
     "execution_count": 6,
     "metadata": {},
     "output_type": "execute_result"
    },
    {
     "data": {
      "image/png": "[encoded data removed]",
      "text/plain": [
       "<Figure size 432x288 with 1 Axes>"
      ]
     },
     "metadata": {
      "needs_background": "light"
     },
     "output_type": "display_data"
    }
   ],
   "source": [
    "plt.imshow(env_screen)"
   ]
  },
  {
   "cell_type": "markdown",
   "id": "f7e61090",
   "metadata": {},
   "source": [
    "To see the animated environment, run `.\\mountain_car.py`"
   ]
  },
  {
   "cell_type": "markdown",
   "id": "9bc68524",
   "metadata": {},
   "source": [
    "## Spaces"
   ]
  },
  {
   "cell_type": "markdown",
   "id": "3a6bc574",
   "metadata": {},
   "source": [
    "The `observation_space` for our environment was `Box(..., (2,), ...)`, and the `action_space` was `Discrete(3)`. Both `Box` and `Discrete` are types of data structures called \"Spaces\" provided by Gym to describe the legitimate values for the observations and actions for the environments."
   ]
  },
  {
   "cell_type": "code",
   "execution_count": 7,
   "id": "66f008d3",
   "metadata": {},
   "outputs": [
    {
     "name": "stdout",
     "output_type": "stream",
     "text": [
      "<class 'gym.spaces.box.Box'>\n",
      "Env observation upper bound [0.6  0.07]\n",
      "Env observation lower bound [-1.2  -0.07]\n"
     ]
    }
   ],
   "source": [
    "print(type(obs_space))\n",
    "\n",
    "print(\"Env observation upper bound\", obs_space.high)\n",
    "print(\"Env observation lower bound\", obs_space.low)"
   ]
  },
  {
   "cell_type": "code",
   "execution_count": 8,
   "id": "31f62792",
   "metadata": {},
   "outputs": [
    {
     "name": "stdout",
     "output_type": "stream",
     "text": [
      "<class 'gym.spaces.discrete.Discrete'>\n",
      "Env action space n = 3\n"
     ]
    }
   ],
   "source": [
    "print(type(act_space))\n",
    "\n",
    "print(f\"Env action space n = {act_space.n}\") # actions can ints with values [0, n)"
   ]
  },
  {
   "cell_type": "code",
   "execution_count": 9,
   "id": "d7bf2ccb",
   "metadata": {},
   "outputs": [
    {
     "name": "stdout",
     "output_type": "stream",
     "text": [
      "n=2 works!\n",
      "n=4 doesn't work.\n"
     ]
    }
   ],
   "source": [
    "# Works\n",
    "try:\n",
    "    env.step(2)\n",
    "    print(\"n=2 works!\")\n",
    "except:\n",
    "    print(\"n=2 doesn't work.\")\n",
    "\n",
    "# Doesn't work\n",
    "try:\n",
    "    env.step(4)\n",
    "    print(\"n=4 works!\")\n",
    "except:\n",
    "    print(\"n=4 doesn't work.\")"
   ]
  },
  {
   "cell_type": "markdown",
   "id": "381611b8",
   "metadata": {},
   "source": [
    "## Wrappers"
   ]
  },
  {
   "cell_type": "markdown",
   "id": "0c57ef3c",
   "metadata": {},
   "source": [
    "The `Wrapper` class in OpenAI Gym provides us with the functionality to modify various parts of an environment to suit our needs. Maybe we want to normalize your pixel input, or maybe clip our rewards."
   ]
  },
  {
   "cell_type": "code",
   "execution_count": 10,
   "id": "4f5e1de5",
   "metadata": {},
   "outputs": [
    {
     "name": "stdout",
     "output_type": "stream",
     "text": [
      "Observation space: Box(0, 255, (210, 160, 3), uint8)\n",
      "Action space: Discrete(4)\n"
     ]
    }
   ],
   "source": [
    "env = gym.make('ALE/Breakout-v5', new_step_api=True)\n",
    "\n",
    "print(\"Observation space:\", env.observation_space)\n",
    "print(\"Action space:\", env.action_space)"
   ]
  },
  {
   "cell_type": "markdown",
   "id": "876f54f7",
   "metadata": {},
   "source": [
    "To see the environment run with random actions, run `breakout.py`"
   ]
  },
  {
   "cell_type": "code",
   "execution_count": 16,
   "id": "bb2e2eef",
   "metadata": {},
   "outputs": [
    {
     "name": "stdout",
     "output_type": "stream",
     "text": [
      "New observation space: Box(0, 255, (4, 210, 160, 3), uint8)\n"
     ]
    }
   ],
   "source": [
    "from wrappers import ConcatObs\n",
    "\n",
    "wrapped_env = ConcatObs(env, 4)\n",
    "print(\"New observation space:\", wrapped_env.observation_space)"
   ]
  },
  {
   "cell_type": "code",
   "execution_count": 12,
   "id": "9a687af2",
   "metadata": {},
   "outputs": [
    {
     "name": "stdout",
     "output_type": "stream",
     "text": [
      "Initial obs: (4, 210, 160, 3)\n",
      "Obs after step: (4, 210, 160, 3)\n"
     ]
    },
    {
     "name": "stderr",
     "output_type": "stream",
     "text": [
      "c:\\Users\\justin.mak\\AppData\\Local\\Programs\\Python\\Python310\\lib\\site-packages\\gym\\utils\\passive_env_checker.py:227: DeprecationWarning: \u001b[33mWARN: Core environment is written in old step API which returns one bool instead of two. It is recommended to rewrite the environment with new step API. \u001b[0m\n",
      "  logger.deprecation(\n"
     ]
    }
   ],
   "source": [
    "# Verify whether observations are concatenated\n",
    "\n",
    "obs = wrapped_env.reset()\n",
    "print(\"Initial obs:\", obs.shape)\n",
    "\n",
    "obs, _, _, _, _ = wrapped_env.step(2)\n",
    "print(\"Obs after step:\", obs.shape)"
   ]
  },
  {
   "cell_type": "code",
   "execution_count": 17,
   "id": "78d41db5",
   "metadata": {},
   "outputs": [],
   "source": [
    "from wrappers import ObservationWrapper, RewardWrapper, ActionWrapper\n",
    "\n",
    "env = gym.make('ALE/Breakout-v5', new_step_api=True, render_mode=\"human\")\n",
    "wrapped_env = ObservationWrapper(RewardWrapper(ActionWrapper(env)))"
   ]
  },
  {
   "cell_type": "markdown",
   "id": "914d8a60",
   "metadata": {},
   "source": [
    "To see the environment modified with wrappers, run `breakout_wrapped.py`"
   ]
  },
  {
   "cell_type": "code",
   "execution_count": 18,
   "id": "544169e4",
   "metadata": {},
   "outputs": [
    {
     "name": "stdout",
     "output_type": "stream",
     "text": [
      "Wrapped env: <ObservationWrapper<RewardWrapper<ActionWrapper<TimeLimit<OrderEnforcing<StepAPICompatibility<PassiveEnvChecker<AtariEnv<ALE/Breakout-v5>>>>>>>>>\n",
      "Unwrapped env: <AtariEnv<ALE/Breakout-v5>>\n",
      "Action meanings: ['NOOP', 'FIRE', 'RIGHT', 'LEFT']\n"
     ]
    }
   ],
   "source": [
    "print(\"Wrapped env:\", wrapped_env)\n",
    "print(\"Unwrapped env:\", wrapped_env.unwrapped)\n",
    "print(\"Action meanings:\", wrapped_env.unwrapped.get_action_meanings())"
   ]
  },
  {
   "cell_type": "markdown",
   "id": "6d786946",
   "metadata": {},
   "source": [
    "## Vectorised Environments"
   ]
  },
  {
   "cell_type": "markdown",
   "id": "550ac675",
   "metadata": {},
   "source": [
    "Vectorised environments are a method for stacking multiple independent environments into a single environment. Instead of training an RL agent on 1 environment per step, it allows us to train it on `n` environments per step.\n",
    "\n",
    "Here, we will use another library called `stable-baselines3`, whose features include wrappers that allow us to run multiple environments in parallel using a single function call. The wrapper of interest here is called `SubprocVecEnv`, which creates a multiprocess vectorised wrapper for multiple environments. Each environment is distributied to its own process, allowing significant speed up when the environment is computationally complex."
   ]
  },
  {
   "cell_type": "markdown",
   "id": "029e30d3",
   "metadata": {},
   "source": [
    "To see renders of the vectorised environment, run `breakout_vectorised.py`"
   ]
  }
 ],
 "metadata": {
  "kernelspec": {
   "display_name": "Python 3.10.4 64-bit",
   "language": "python",
   "name": "python3"
  },
  "language_info": {
   "codemirror_mode": {
    "name": "ipython",
    "version": 3
   },
   "file_extension": ".py",
   "mimetype": "text/x-python",
   "name": "python",
   "nbconvert_exporter": "python",
   "pygments_lexer": "ipython3",
   "version": "3.10.4"
  },
  "vscode": {
   "interpreter": {
    "hash": "c2720f8f7927cabbb594abb5ac9ed583f197d67d5a15459d4ce8a63569bbfaff"
   }
  }
 },
 "nbformat": 4,
 "nbformat_minor": 5
}

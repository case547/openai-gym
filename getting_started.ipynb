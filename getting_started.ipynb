{
 "cells": [
  {
   "cell_type": "markdown",
   "id": "d407bb17",
   "metadata": {},
   "source": [
    "# Getting Started with OpenAI Gym: The Baic Building Blocks\n",
    "Based on [this article](https://blog.paperspace.com/getting-started-with-openai-gym/) but updated to match current version of Gym"
   ]
  },
  {
   "cell_type": "markdown",
   "id": "16f1542b",
   "metadata": {},
   "source": [
    "## Environments"
   ]
  },
  {
   "cell_type": "code",
   "execution_count": 25,
   "id": "5052cac5-d8ad-4d1a-9386-59e7fc631f73",
   "metadata": {},
   "outputs": [],
   "source": [
    "import gym\n",
    "\n",
    "env = gym.make('MountainCar-v0', new_step_api=True, render_mode=\"human\")"
   ]
  },
  {
   "cell_type": "code",
   "execution_count": 2,
   "id": "7e3ead96-a597-498f-bd80-83123cd644e5",
   "metadata": {},
   "outputs": [
    {
     "name": "stdout",
     "output_type": "stream",
     "text": [
      "Obervation space: Box([-1.2  -0.07], [0.6  0.07], (2,), float32)\n",
      "Action space: Discrete(3)\n"
     ]
    }
   ],
   "source": [
    "# Observation and action space\n",
    "obs_space = env.observation_space  # structure and legitimate values for observation of environment's state\n",
    "act_space = env.action_space       # numerical structure of legitimate actions that can be applied to environment\n",
    "print(\"Obervation space:\", obs_space)  # velocity and position vectors\n",
    "print(\"Action space:\", act_space)"
   ]
  },
  {
   "cell_type": "markdown",
   "id": "877e1bd8",
   "metadata": {},
   "source": [
    "## Interacting with the Environment"
   ]
  },
  {
   "cell_type": "code",
   "execution_count": 3,
   "id": "0e359824-ca74-42bb-9215-8ca1732d879c",
   "metadata": {},
   "outputs": [
    {
     "name": "stdout",
     "output_type": "stream",
     "text": [
      "Initial observation: [0.01826802 0.        ]\n",
      "New observation: [ 0.01577177 -0.00249625]\n"
     ]
    }
   ],
   "source": [
    "import matplotlib.pyplot as plt\n",
    "\n",
    "# Reset env and see initial observation\n",
    "obs = env.reset()\n",
    "print(\"Initial observation:\", obs)\n",
    "\n",
    "# Sample random action from entire action space\n",
    "rand_act = act_space.sample()\n",
    "\n",
    "# Take action and get new obs space\n",
    "new_obs, reward, terminated, truncated, info = env.step(rand_act)\n",
    "print(\"New observation:\", new_obs)"
   ]
  },
  {
   "cell_type": "code",
   "execution_count": 4,
   "id": "b8dd5866-191c-4f3c-8ddd-1143b172325d",
   "metadata": {},
   "outputs": [],
   "source": [
    "env.render()\n",
    "env.close()"
   ]
  },
  {
   "cell_type": "code",
   "execution_count": 5,
   "id": "8ec96cfe-2d77-4582-bdb2-346cf646b34b",
   "metadata": {},
   "outputs": [
    {
     "data": {
      "text/plain": [
       "<matplotlib.image.AxesImage at 0x1dca9ffb3d0>"
      ]
     },
     "execution_count": 5,
     "metadata": {},
     "output_type": "execute_result"
    },
    {
     "data": {
      "image/png": "[encoded data removed]",
      "text/plain": [
       "<Figure size 432x288 with 1 Axes>"
      ]
     },
     "metadata": {
      "needs_background": "light"
     },
     "output_type": "display_data"
    }
   ],
   "source": [
    "plt.imshow(env_screen)"
   ]
  },
  {
   "cell_type": "markdown",
   "id": "9bc68524",
   "metadata": {},
   "source": [
    "## Spaces"
   ]
  },
  {
   "cell_type": "code",
   "execution_count": 12,
   "id": "66f008d3",
   "metadata": {},
   "outputs": [
    {
     "name": "stdout",
     "output_type": "stream",
     "text": [
      "<class 'gym.spaces.box.Box'>\n",
      "Env observation uppder bound [0.6  0.07]\n",
      "Env observation lower bound [-1.2  -0.07]\n"
     ]
    }
   ],
   "source": [
    "print(type(obs_space))\n",
    "\n",
    "print(\"Env observation upper bound\", obs_space.high)\n",
    "print(\"Env observation lower bound\", obs_space.low)"
   ]
  },
  {
   "cell_type": "code",
   "execution_count": 19,
   "id": "31f62792",
   "metadata": {},
   "outputs": [
    {
     "name": "stdout",
     "output_type": "stream",
     "text": [
      "<class 'gym.spaces.discrete.Discrete'>\n",
      "Env action space n = 3\n"
     ]
    }
   ],
   "source": [
    "print(type(act_space))\n",
    "\n",
    "print(f\"Env action space n = {act_space.n}\")"
   ]
  },
  {
   "cell_type": "code",
   "execution_count": 23,
   "id": "d7bf2ccb",
   "metadata": {},
   "outputs": [
    {
     "name": "stdout",
     "output_type": "stream",
     "text": [
      "n=2 works!\n",
      "n=4 doesn't work.\n"
     ]
    }
   ],
   "source": [
    "# Works\n",
    "try:\n",
    "    env.step(2)\n",
    "    print(\"n=2 works!\")\n",
    "except:\n",
    "    print(\"n=2 doesn't work.\")\n",
    "\n",
    "# Doesn't work\n",
    "try:\n",
    "    env.step(4)\n",
    "    print(\"n=4 works!\")\n",
    "except:\n",
    "    print(\"n=4 doesn't work.\")"
   ]
  },
  {
   "cell_type": "markdown",
   "id": "381611b8",
   "metadata": {},
   "source": [
    "## Wrappers"
   ]
  },
  {
   "cell_type": "code",
   "execution_count": null,
   "id": "4f5e1de5",
   "metadata": {},
   "outputs": [],
   "source": []
  }
 ],
 "metadata": {
  "kernelspec": {
   "display_name": "Python 3.10.4 64-bit",
   "language": "python",
   "name": "python3"
  },
  "language_info": {
   "codemirror_mode": {
    "name": "ipython",
    "version": 3
   },
   "file_extension": ".py",
   "mimetype": "text/x-python",
   "name": "python",
   "nbconvert_exporter": "python",
   "pygments_lexer": "ipython3",
   "version": "3.10.4"
  },
  "vscode": {
   "interpreter": {
    "hash": "c2720f8f7927cabbb594abb5ac9ed583f197d67d5a15459d4ce8a63569bbfaff"
   }
  }
 },
 "nbformat": 4,
 "nbformat_minor": 5
}
